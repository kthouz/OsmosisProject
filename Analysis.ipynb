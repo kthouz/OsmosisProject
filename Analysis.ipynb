{
 "cells": [
  {
   "cell_type": "code",
   "execution_count": 25,
   "metadata": {
    "collapsed": false
   },
   "outputs": [],
   "source": [
    "import pandas as pd\n",
    "import numpy as np\n",
    "from mpl_toolkits.mplot3d import Axes3D\n",
    "import matplotlib.pyplot as plt\n",
    "\n",
    "#import data\n",
    "filename1 = '/Users/cgirabawe/Documents/OneDrive/DoD_Backup/BackUp_Data/allresults4f_tmp.csv'\n",
    "df = pd.read_csv(filename1)\n",
    "filename2 = '/Users/cgirabawe/Documents/OneDrive/DoD_Backup/BackUp_Data/datatbl.csv'\n",
    "data = pd.read_csv(filename2)\n",
    "gaps = df[['n10','n1f','n20','n2f']].min(axis = 1)\n",
    "gaps = pd.DataFrame(gaps, columns = ['d'])\n",
    "cols = data.columns\n",
    "data = [data.c0,data.cf,data.v0,data.vf,data.expectedvf,data.expectedcf,data.deviation,gaps.d,df.Medium]\n",
    "data = pd.DataFrame(data).T\n",
    "logd = pd.Series(np.round(map(lambda x:np.log10(x+0.1), data.d)))\n",
    "\n",
    "logd[logd == 0] = 1\n",
    "logd[(logd == 2) & (data.Medium != 'Air+2%')] = 1\n",
    "#logd[df.ExperimentID == 6] = 1\n",
    "\n"
   ]
  },
  {
   "cell_type": "code",
   "execution_count": 29,
   "metadata": {
    "collapsed": false
   },
   "outputs": [],
   "source": [
    "#generate plots\n",
    "fig = plt.figure()\n",
    "ax = fig.add_subplot(111, projection='3d')\n",
    "\n",
    "#colors dict\n",
    "clrs = {'0.20%':'c','0.60%':'g','2%':'red','4%':'blue','Air+2%':'m'}\n",
    "mindev = int(np.floor(data.deviation.min()))\n",
    "maxdev = int(np.ceil(data.deviation.max()))\n",
    "step = int((maxdev-mindev)/10)\n",
    "bins = np.array(range(mindev,maxdev,step))\n",
    "for ld in sorted(pd.unique(logd)):\n",
    "    width = 0\n",
    "    tmp = data[logd == ld]\n",
    "    for m in pd.unique(tmp.Medium):\n",
    "        tmp1 = tmp[tmp.Medium == m]\n",
    "\n",
    "        #print tmp1.head(10)\n",
    "        xy = np.histogram(tmp1.deviation.values,bins)\n",
    "        ys = xy[0]\n",
    "        xs = xy[1]+width\n",
    "        ax.bar(xs[:-1]+step, ys, zs=[ld]*len(xs), zdir = 'y', color=[clrs[m]]*len(xs),\n",
    "               width = np.ceil((xs[1:]-xs[:-1])[0]/float(len(pd.unique(tmp.Medium)))))\n",
    "        #print ld, clrs[m], (xs[1:]-xs[:-1])[0]/len(pd.unique(tmp.Medium))\n",
    "        width += (xs[1:]-xs[:-1])[0]/float(len(pd.unique(tmp.Medium)))\n",
    "ax.set_xlabel('Deviation (%)', fontsize = 16)\n",
    "ax.set_ylabel('log(gap size)', fontsize = 16)\n",
    "ax.set_zlabel('count', fontsize = 16)\n",
    "\n",
    "plt.yticks((-1,0,1,2))\n",
    "plt.xticks((-30,-15,0,15,30))\n",
    "#ax.set_zticks((0,4,8,12))\n",
    "#ax.set_zticklabels((0,4,8,12))\n",
    "#plt.zticks((0,4,8,12))\n",
    "plt.tick_params(axis='both', which='major', labelsize=15)\n",
    "plt.show()"
   ]
  },
  {
   "cell_type": "markdown",
   "metadata": {},
   "source": [
    "###### Observations from figure 1:\n",
    "1. Touching drops reach expected equilibrium concentration while non-touching do\n",
    "2. The surfactant is irrelavant\n",
    "3. The type of medium around drops matter\n",
    "\n",
    "###### What to do next?\n",
    "1. Look at kinetics for different surfactant concentrations at all three spacing: generate plots and fits to extract the time constant\n",
    "2. Plot time constants (from (1)) as function of gap and surfactant concentration"
   ]
  },
  {
   "cell_type": "code",
   "execution_count": 3,
   "metadata": {
    "collapsed": false
   },
   "outputs": [
    {
     "name": "stdout",
     "output_type": "stream",
     "text": [
      "[8 9]\n",
      "(13, 22)\n"
     ]
    }
   ],
   "source": [
    "import string\n",
    "from scipy.optimize import curve_fit\n",
    "print pd.unique(df[(logd == 1) & (data.Medium == '4%')]['ExperimentID'])\n",
    "d1 = df[(logd == 1) & (data.Medium == '4%')]\n",
    "d1 = d1[d1.ExperimentID == 9]\n",
    "print d1.shape\n",
    "# read in files\n",
    "kinetics1 = {}\n",
    "for i, path in zip(d1.ID, d1.path):\n",
    "    #path = string.replace(path,'MIS2','MIS3')\n",
    "    filename = '/Volumes/K1000Drive/THD10168'+string.replace(path,'\\\\','/')[2:]\n",
    "    ndata = pd.read_csv(filename)\n",
    "    kinetics1[i] = (filename,ndata)\n",
    "\n"
   ]
  },
  {
   "cell_type": "code",
   "execution_count": null,
   "metadata": {
    "collapsed": false
   },
   "outputs": [],
   "source": [
    "n = 0\n",
    "def func(x, a, T, x0, d):\n",
    "    #return a*np.exp(-(x-x0)/T)+d\n",
    "    return a-(x-x0)/T\n",
    "\n",
    "ndata = kinetics1[kinetics1.keys()[n]][1]\n",
    "x = ndata.index.values*25*60\n",
    "y = ndata[ndata.keys()[1]].values\n",
    "try:\n",
    "    popt, pcov = curve_fit(func, x[0:], y[0:], p0=(.2, 1e5, -0, 0.1))\n",
    "    yfit = func(x, *popt)\n",
    "    plt.plot(x,yfit)\n",
    "except:\n",
    "    print \"Unfitted\" \n",
    "plt.plot(x, y, 'ko')\n",
    "plt.show()\n",
    "print kinetics1.keys()[n]\n",
    "print 'Time constant:', popt[1]/3600"
   ]
  },
  {
   "cell_type": "code",
   "execution_count": 6,
   "metadata": {
    "collapsed": false
   },
   "outputs": [],
   "source": [
    "taus = pd.read_csv('/Users/cgirabawe/Documents/OneDrive/DoD_Backup/BackUp_Data/dataTimeCharacteristics.csv')\n",
    "extdata = data\n",
    "extdata['ID'] = df.ID\n",
    "extdata.index = df.ID\n",
    "taus.index = taus.ID\n",
    "taus = pd.concat([taus, extdata[['deviation','Medium','d','ID']]], axis=1, join_axes=[taus.index])\n",
    "\n",
    "taus['logTau'] = map(lambda x:np.log10(x), taus.Tau)"
   ]
  },
  {
   "cell_type": "code",
   "execution_count": 7,
   "metadata": {
    "collapsed": true
   },
   "outputs": [],
   "source": [
    "plt.scatter(taus.d,taus.logTau,\n",
    "            c = map(lambda x:clrs[x],taus.Medium.values))\n",
    "plt.show()"
   ]
  },
  {
   "cell_type": "code",
   "execution_count": 22,
   "metadata": {
    "collapsed": false
   },
   "outputs": [],
   "source": [
    "#generate plots\n",
    "fig = plt.figure()\n",
    "ax = fig.add_subplot(111, projection='3d')\n",
    "\n",
    "#colors dict\n",
    "clrs = {'0.20%':'c','0.60%':'g','2%':'red','4%':'blue','Air+2%':'m'}\n",
    "mindev = int(np.floor(taus.logTau.min()))\n",
    "maxdev = int(np.ceil(taus.logTau.max()))\n",
    "step = (maxdev-mindev)/20.\n",
    "bins = np.array(range(mindev*10,maxdev*10,int(step*10)))/10.\n",
    "bins = np.arange(-1,6,1)\n",
    "for ld in sorted(pd.unique(taus.logd)):\n",
    "    width = 0\n",
    "    tmp = taus[taus.logd == ld]\n",
    "    for m in pd.unique(tmp.Medium):\n",
    "        tmp1 = tmp[tmp.Medium == m]\n",
    "\n",
    "        #print tmp1.head(10)\n",
    "        xy = np.histogram(tmp1.logTau.values,bins)\n",
    "        ys = xy[0]\n",
    "        xs = xy[1]+width\n",
    "        ax.bar(xs[:-1]+step, ys, zs=[ld]*len(xs), zdir = 'y', color=[clrs[m]]*len(xs),\n",
    "               width = (xs[1:]-xs[:-1])[0]/float(len(pd.unique(tmp.Medium))))\n",
    "        #print ld, clrs[m], 1/float(len(pd.unique(tmp.Medium))), width\n",
    "        width += (xs[1:]-xs[:-1])[0]/float(len(pd.unique(tmp.Medium)))\n",
    "ax.set_xlabel('log (time constant)', fontsize = 16)\n",
    "ax.set_ylabel('log(gap size)', fontsize = 16)\n",
    "ax.set_zlabel('count', fontsize = 16)\n",
    "plt.yticks((-1,0,1,2))\n",
    "ax.set_zticks((0,4,8,12))\n",
    "ax.set_zticklabels((0,4,8,12))\n",
    "#plt.zticks((0,4,8,12))\n",
    "plt.tick_params(axis='both', which='major', labelsize=15)\n",
    "plt.show()"
   ]
  },
  {
   "cell_type": "code",
   "execution_count": 5,
   "metadata": {
    "collapsed": false
   },
   "outputs": [],
   "source": [
    "#plot kinetics\n",
    "import pandas as pd\n",
    "import matplotlib.pyplot as plt\n",
    "kinedata = pd.read_csv('/Users/cgirabawe/Documents/OneDrive/DoD_Backup/BackUp_Data/kinetics_4d.csv')\n",
    "clrs = {'0.2%': 'c', '0.6%': 'g', '2.0%': 'red', '4.0%': 'blue', 'Air+2%': 'm'}\n",
    "for m in pd.unique(kinedata.Medium):\n",
    "    for cc in pd.unique(kinedata.c0):\n",
    "        tmp = kinedata[(kinedata.Medium == m) & (kinedata.c0 == cc)]\n",
    "        plt.plot(tmp['Time (hrs)'],tmp['C [M]'],\n",
    "                color = clrs[tmp.Medium[tmp.Medium.index[0]]],\n",
    "                linewidth = 2,\n",
    "                label = 'line')\n",
    "\n",
    "plt.xlim(0, 40)\n",
    "\n",
    "plt.xlabel('Time (hours)', fontsize = 16)\n",
    "plt.ylabel('[NaCl] (M)', fontsize = 16)\n",
    "plt.yticks((0.08, 0.1,0.15,0.2,0.22))\n",
    "plt.xticks((0,10,20,30,40))\n",
    "plt.tick_params(axis='both', which='major', labelsize=16)\n",
    "plt.show()"
   ]
  },
  {
   "cell_type": "code",
   "execution_count": 7,
   "metadata": {
    "collapsed": false
   },
   "outputs": [],
   "source": [
    "import matplotlib.patches as mpatches\n",
    "import matplotlib.pyplot as plt\n",
    "\n",
    "cpatch = mpatches.Patch(color='c', label='0.2%')\n",
    "gpatch = mpatches.Patch(color='g', label='0.6%')\n",
    "rpatch = mpatches.Patch(color='r', label='2.0%')\n",
    "bpatch = mpatches.Patch(color='b', label='4.0%')\n",
    "mpatch = mpatches.Patch(color='m', label='Air+2%')\n",
    "plt.legend(handles=[cpatch,gpatch,rpatch,bpatch,mpatch])\n",
    "plt.show()"
   ]
  },
  {
   "cell_type": "code",
   "execution_count": null,
   "metadata": {
    "collapsed": true
   },
   "outputs": [],
   "source": []
  }
 ],
 "metadata": {
  "kernelspec": {
   "display_name": "Python 2",
   "language": "python",
   "name": "python2"
  },
  "language_info": {
   "codemirror_mode": {
    "name": "ipython",
    "version": 2
   },
   "file_extension": ".py",
   "mimetype": "text/x-python",
   "name": "python",
   "nbconvert_exporter": "python",
   "pygments_lexer": "ipython2",
   "version": "2.7.10"
  }
 },
 "nbformat": 4,
 "nbformat_minor": 0
}
